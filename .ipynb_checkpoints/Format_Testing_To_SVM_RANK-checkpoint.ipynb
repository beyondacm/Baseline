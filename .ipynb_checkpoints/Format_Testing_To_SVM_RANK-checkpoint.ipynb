{
 "cells": [
  {
   "cell_type": "code",
   "execution_count": 1,
   "metadata": {
    "collapsed": true
   },
   "outputs": [],
   "source": [
    "import os\n",
    "from itertools import  izip"
   ]
  },
  {
   "cell_type": "code",
   "execution_count": 2,
   "metadata": {
    "collapsed": true
   },
   "outputs": [],
   "source": [
    "def format_line(fout, target, qid, feature_list) :\n",
    "    fout.write( str(target) + ' ')\n",
    "    fout.write('qid:' + str(qid) + ' ')\n",
    "    for i,value in enumerate(feature_list) :\n",
    "        fout.write(str(i+1) + ':' + str(value) + ' ')\n",
    "    fout.write('\\n')"
   ]
  },
  {
   "cell_type": "code",
   "execution_count": 10,
   "metadata": {
    "collapsed": false
   },
   "outputs": [],
   "source": [
    "def format_file(f_in, f_out) :\n",
    "    \n",
    "    f_in.readline()\n",
    "    qid = 1\n",
    "    \n",
    "    for line in f_in :\n",
    "        # print line\n",
    "        test_features = line.strip().split(',')\n",
    "        # print test_features\n",
    "        format_line(f_out, 1, qid, test_features)\n"
   ]
  },
  {
   "cell_type": "code",
   "execution_count": 24,
   "metadata": {
    "collapsed": true
   },
   "outputs": [],
   "source": [
    "# LEVEL = '1000x5/'\n",
    "# LEVEL = '1000x6/'\n",
    "# LEVEL = '1000x7/'\n",
    "# LEVEL = '1000x8/'\n",
    "# LEVEL = '1000x9/'\n",
    "# LEVEL = '1000x10/'\n",
    "PATH_FORMAT = './Format_Data/Testing_Set/' + LEVEL\n",
    "PATH_TEST   = './Testing_Data/' + LEVEL"
   ]
  },
  {
   "cell_type": "code",
   "execution_count": 25,
   "metadata": {
    "collapsed": false
   },
   "outputs": [],
   "source": [
    "Final_Test_List = os.listdir(PATH_TEST)"
   ]
  },
  {
   "cell_type": "code",
   "execution_count": 26,
   "metadata": {
    "collapsed": false
   },
   "outputs": [],
   "source": [
    "for Final_Test in Final_Test_List :\n",
    "    PATH_IN = os.path.join(PATH_TEST, Final_Test) + '/'\n",
    "    # print PATH_IN\n",
    "    file_list = os.listdir(PATH_IN)\n",
    "    # print file_list\n",
    "    for fname in file_list :\n",
    "        file_path_in = os.path.join(PATH_TEST, Final_Test, fname )\n",
    "        file_path_out = os.path.join(PATH_FORMAT, Final_Test, fname )\n",
    "        # print file_path\n",
    "        f_in = open(file_path_in, 'r') \n",
    "        f_out = open(file_path_out, 'w')\n",
    "        \n",
    "        # call format_file()\n",
    "        format_file(f_in, f_out)\n",
    "        \n",
    "        f_in.close()\n",
    "        f_out.close()"
   ]
  },
  {
   "cell_type": "code",
   "execution_count": null,
   "metadata": {
    "collapsed": true
   },
   "outputs": [],
   "source": []
  }
 ],
 "metadata": {
  "kernelspec": {
   "display_name": "Python 2",
   "language": "python",
   "name": "python2"
  },
  "language_info": {
   "codemirror_mode": {
    "name": "ipython",
    "version": 2
   },
   "file_extension": ".py",
   "mimetype": "text/x-python",
   "name": "python",
   "nbconvert_exporter": "python",
   "pygments_lexer": "ipython2",
   "version": "2.7.11"
  }
 },
 "nbformat": 4,
 "nbformat_minor": 0
}
