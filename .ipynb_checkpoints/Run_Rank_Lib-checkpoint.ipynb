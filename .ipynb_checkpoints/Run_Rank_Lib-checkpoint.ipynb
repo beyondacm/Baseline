{
 "cells": [
  {
   "cell_type": "code",
   "execution_count": 1,
   "metadata": {
    "collapsed": true
   },
   "outputs": [],
   "source": [
    "import pandas as pd\n",
    "import os \n",
    "import subprocess"
   ]
  },
  {
   "cell_type": "code",
   "execution_count": 2,
   "metadata": {
    "collapsed": false
   },
   "outputs": [],
   "source": [
    "file_path_in = \"./Format_Data/Testing_Set/1000x5/Final_Test_00/test_1.csv\"\n",
    "file_path_out = './test1.txt'"
   ]
  },
  {
   "cell_type": "code",
   "execution_count": 3,
   "metadata": {
    "collapsed": false
   },
   "outputs": [],
   "source": [
    "!java -jar ./RankLib-v2.1/bin/RankLib.jar -load MART -rank $file_path_in 2>&1 | tail -1 >> $file_path_out"
   ]
  },
  {
   "cell_type": "code",
   "execution_count": 4,
   "metadata": {
    "collapsed": false
   },
   "outputs": [],
   "source": [
    "LEVEL ='1000x5/'\n",
    "PATH_FORMATED = './Format_Data/Testing_Set/' + LEVEL\n",
    "PATH_RANKED = './Ranked_Data/' + LEVEL"
   ]
  },
  {
   "cell_type": "code",
   "execution_count": 5,
   "metadata": {
    "collapsed": false
   },
   "outputs": [],
   "source": [
    "Final_Test_List = os.listdir(PATH_FORMATED)"
   ]
  },
  {
   "cell_type": "code",
   "execution_count": 7,
   "metadata": {
    "collapsed": false
   },
   "outputs": [
    {
     "data": {
      "text/plain": [
       "['Final_Test_00',\n",
       " 'Final_Test_01',\n",
       " 'Final_Test_02',\n",
       " 'Final_Test_03',\n",
       " 'Final_Test_04',\n",
       " 'Final_Test_05',\n",
       " 'Final_Test_06',\n",
       " 'Final_Test_07',\n",
       " 'Final_Test_08',\n",
       " 'Final_Test_09']"
      ]
     },
     "execution_count": 7,
     "metadata": {},
     "output_type": "execute_result"
    }
   ],
   "source": [
    "Final_Test_List"
   ]
  },
  {
   "cell_type": "code",
   "execution_count": 10,
   "metadata": {
    "collapsed": true
   },
   "outputs": [],
   "source": [
    "file_list = os.listdir(PATH_FORMATED + Final_Test_List[0] )"
   ]
  },
  {
   "cell_type": "code",
   "execution_count": 12,
   "metadata": {
    "collapsed": false
   },
   "outputs": [],
   "source": [
    "# file_list"
   ]
  },
  {
   "cell_type": "code",
   "execution_count": 13,
   "metadata": {
    "collapsed": false,
    "scrolled": false
   },
   "outputs": [
    {
     "name": "stdout",
     "output_type": "stream",
     "text": [
      "./Format_Data/Testing_Set/1000x5/Final_Test_00/test_0.csv\n",
      "./Ranked_Data/1000x5/Final_Test_00/test_0.csv\n",
      "./Format_Data/Testing_Set/1000x5/Final_Test_00/test_1.csv\n",
      "./Ranked_Data/1000x5/Final_Test_00/test_1.csv\n",
      "./Format_Data/Testing_Set/1000x5/Final_Test_00/test_10.csv\n",
      "./Ranked_Data/1000x5/Final_Test_00/test_10.csv\n",
      "./Format_Data/Testing_Set/1000x5/Final_Test_00/test_11.csv\n",
      "./Ranked_Data/1000x5/Final_Test_00/test_11.csv\n",
      "./Format_Data/Testing_Set/1000x5/Final_Test_00/test_12.csv\n",
      "./Ranked_Data/1000x5/Final_Test_00/test_12.csv\n",
      "./Format_Data/Testing_Set/1000x5/Final_Test_00/test_13.csv\n",
      "./Ranked_Data/1000x5/Final_Test_00/test_13.csv\n",
      "./Format_Data/Testing_Set/1000x5/Final_Test_00/test_14.csv\n",
      "./Ranked_Data/1000x5/Final_Test_00/test_14.csv\n",
      "./Format_Data/Testing_Set/1000x5/Final_Test_00/test_15.csv\n",
      "./Ranked_Data/1000x5/Final_Test_00/test_15.csv\n",
      "./Format_Data/Testing_Set/1000x5/Final_Test_00/test_16.csv\n",
      "./Ranked_Data/1000x5/Final_Test_00/test_16.csv\n",
      "./Format_Data/Testing_Set/1000x5/Final_Test_00/test_17.csv\n",
      "./Ranked_Data/1000x5/Final_Test_00/test_17.csv\n",
      "./Format_Data/Testing_Set/1000x5/Final_Test_00/test_18.csv\n",
      "./Ranked_Data/1000x5/Final_Test_00/test_18.csv\n",
      "./Format_Data/Testing_Set/1000x5/Final_Test_00/test_19.csv\n",
      "./Ranked_Data/1000x5/Final_Test_00/test_19.csv\n",
      "./Format_Data/Testing_Set/1000x5/Final_Test_00/test_2.csv\n",
      "./Ranked_Data/1000x5/Final_Test_00/test_2.csv\n",
      "./Format_Data/Testing_Set/1000x5/Final_Test_00/test_20.csv\n",
      "./Ranked_Data/1000x5/Final_Test_00/test_20.csv\n",
      "./Format_Data/Testing_Set/1000x5/Final_Test_00/test_21.csv\n",
      "./Ranked_Data/1000x5/Final_Test_00/test_21.csv\n",
      "./Format_Data/Testing_Set/1000x5/Final_Test_00/test_22.csv\n",
      "./Ranked_Data/1000x5/Final_Test_00/test_22.csv\n",
      "./Format_Data/Testing_Set/1000x5/Final_Test_00/test_23.csv\n",
      "./Ranked_Data/1000x5/Final_Test_00/test_23.csv\n",
      "./Format_Data/Testing_Set/1000x5/Final_Test_00/test_24.csv\n",
      "./Ranked_Data/1000x5/Final_Test_00/test_24.csv\n",
      "./Format_Data/Testing_Set/1000x5/Final_Test_00/test_25.csv\n",
      "./Ranked_Data/1000x5/Final_Test_00/test_25.csv\n",
      "./Format_Data/Testing_Set/1000x5/Final_Test_00/test_26.csv\n",
      "./Ranked_Data/1000x5/Final_Test_00/test_26.csv\n",
      "./Format_Data/Testing_Set/1000x5/Final_Test_00/test_27.csv\n",
      "./Ranked_Data/1000x5/Final_Test_00/test_27.csv\n",
      "./Format_Data/Testing_Set/1000x5/Final_Test_00/test_28.csv\n",
      "./Ranked_Data/1000x5/Final_Test_00/test_28.csv\n",
      "./Format_Data/Testing_Set/1000x5/Final_Test_00/test_29.csv\n",
      "./Ranked_Data/1000x5/Final_Test_00/test_29.csv\n",
      "./Format_Data/Testing_Set/1000x5/Final_Test_00/test_3.csv\n",
      "./Ranked_Data/1000x5/Final_Test_00/test_3.csv\n",
      "./Format_Data/Testing_Set/1000x5/Final_Test_00/test_30.csv\n",
      "./Ranked_Data/1000x5/Final_Test_00/test_30.csv\n",
      "./Format_Data/Testing_Set/1000x5/Final_Test_00/test_31.csv\n",
      "./Ranked_Data/1000x5/Final_Test_00/test_31.csv\n",
      "./Format_Data/Testing_Set/1000x5/Final_Test_00/test_32.csv\n",
      "./Ranked_Data/1000x5/Final_Test_00/test_32.csv\n",
      "./Format_Data/Testing_Set/1000x5/Final_Test_00/test_33.csv\n",
      "./Ranked_Data/1000x5/Final_Test_00/test_33.csv\n",
      "./Format_Data/Testing_Set/1000x5/Final_Test_00/test_34.csv\n",
      "./Ranked_Data/1000x5/Final_Test_00/test_34.csv\n",
      "./Format_Data/Testing_Set/1000x5/Final_Test_00/test_35.csv\n",
      "./Ranked_Data/1000x5/Final_Test_00/test_35.csv\n",
      "./Format_Data/Testing_Set/1000x5/Final_Test_00/test_36.csv\n",
      "./Ranked_Data/1000x5/Final_Test_00/test_36.csv\n",
      "./Format_Data/Testing_Set/1000x5/Final_Test_00/test_37.csv\n",
      "./Ranked_Data/1000x5/Final_Test_00/test_37.csv\n",
      "./Format_Data/Testing_Set/1000x5/Final_Test_00/test_38.csv\n",
      "./Ranked_Data/1000x5/Final_Test_00/test_38.csv\n",
      "./Format_Data/Testing_Set/1000x5/Final_Test_00/test_39.csv\n",
      "./Ranked_Data/1000x5/Final_Test_00/test_39.csv\n",
      "./Format_Data/Testing_Set/1000x5/Final_Test_00/test_4.csv\n",
      "./Ranked_Data/1000x5/Final_Test_00/test_4.csv\n",
      "./Format_Data/Testing_Set/1000x5/Final_Test_00/test_40.csv\n",
      "./Ranked_Data/1000x5/Final_Test_00/test_40.csv\n",
      "./Format_Data/Testing_Set/1000x5/Final_Test_00/test_41.csv\n",
      "./Ranked_Data/1000x5/Final_Test_00/test_41.csv\n",
      "./Format_Data/Testing_Set/1000x5/Final_Test_00/test_42.csv\n",
      "./Ranked_Data/1000x5/Final_Test_00/test_42.csv\n",
      "./Format_Data/Testing_Set/1000x5/Final_Test_00/test_43.csv\n",
      "./Ranked_Data/1000x5/Final_Test_00/test_43.csv\n",
      "./Format_Data/Testing_Set/1000x5/Final_Test_00/test_44.csv\n",
      "./Ranked_Data/1000x5/Final_Test_00/test_44.csv\n",
      "./Format_Data/Testing_Set/1000x5/Final_Test_00/test_45.csv\n",
      "./Ranked_Data/1000x5/Final_Test_00/test_45.csv\n",
      "./Format_Data/Testing_Set/1000x5/Final_Test_00/test_46.csv\n",
      "./Ranked_Data/1000x5/Final_Test_00/test_46.csv\n",
      "./Format_Data/Testing_Set/1000x5/Final_Test_00/test_47.csv\n",
      "./Ranked_Data/1000x5/Final_Test_00/test_47.csv\n",
      "./Format_Data/Testing_Set/1000x5/Final_Test_00/test_48.csv\n",
      "./Ranked_Data/1000x5/Final_Test_00/test_48.csv\n",
      "./Format_Data/Testing_Set/1000x5/Final_Test_00/test_49.csv\n",
      "./Ranked_Data/1000x5/Final_Test_00/test_49.csv\n",
      "./Format_Data/Testing_Set/1000x5/Final_Test_00/test_5.csv\n",
      "./Ranked_Data/1000x5/Final_Test_00/test_5.csv\n",
      "./Format_Data/Testing_Set/1000x5/Final_Test_00/test_50.csv\n",
      "./Ranked_Data/1000x5/Final_Test_00/test_50.csv\n",
      "./Format_Data/Testing_Set/1000x5/Final_Test_00/test_51.csv\n",
      "./Ranked_Data/1000x5/Final_Test_00/test_51.csv\n",
      "./Format_Data/Testing_Set/1000x5/Final_Test_00/test_52.csv\n",
      "./Ranked_Data/1000x5/Final_Test_00/test_52.csv\n",
      "./Format_Data/Testing_Set/1000x5/Final_Test_00/test_53.csv\n",
      "./Ranked_Data/1000x5/Final_Test_00/test_53.csv\n",
      "./Format_Data/Testing_Set/1000x5/Final_Test_00/test_54.csv\n",
      "./Ranked_Data/1000x5/Final_Test_00/test_54.csv\n",
      "./Format_Data/Testing_Set/1000x5/Final_Test_00/test_55.csv\n",
      "./Ranked_Data/1000x5/Final_Test_00/test_55.csv\n",
      "./Format_Data/Testing_Set/1000x5/Final_Test_00/test_56.csv\n",
      "./Ranked_Data/1000x5/Final_Test_00/test_56.csv\n",
      "./Format_Data/Testing_Set/1000x5/Final_Test_00/test_57.csv\n",
      "./Ranked_Data/1000x5/Final_Test_00/test_57.csv\n",
      "./Format_Data/Testing_Set/1000x5/Final_Test_00/test_58.csv\n",
      "./Ranked_Data/1000x5/Final_Test_00/test_58.csv\n",
      "./Format_Data/Testing_Set/1000x5/Final_Test_00/test_59.csv\n",
      "./Ranked_Data/1000x5/Final_Test_00/test_59.csv\n",
      "./Format_Data/Testing_Set/1000x5/Final_Test_00/test_6.csv\n",
      "./Ranked_Data/1000x5/Final_Test_00/test_6.csv\n",
      "./Format_Data/Testing_Set/1000x5/Final_Test_00/test_60.csv\n",
      "./Ranked_Data/1000x5/Final_Test_00/test_60.csv\n",
      "./Format_Data/Testing_Set/1000x5/Final_Test_00/test_61.csv\n",
      "./Ranked_Data/1000x5/Final_Test_00/test_61.csv\n",
      "./Format_Data/Testing_Set/1000x5/Final_Test_00/test_62.csv\n",
      "./Ranked_Data/1000x5/Final_Test_00/test_62.csv\n",
      "./Format_Data/Testing_Set/1000x5/Final_Test_00/test_63.csv\n",
      "./Ranked_Data/1000x5/Final_Test_00/test_63.csv\n",
      "./Format_Data/Testing_Set/1000x5/Final_Test_00/test_64.csv\n",
      "./Ranked_Data/1000x5/Final_Test_00/test_64.csv\n",
      "./Format_Data/Testing_Set/1000x5/Final_Test_00/test_65.csv\n",
      "./Ranked_Data/1000x5/Final_Test_00/test_65.csv\n",
      "./Format_Data/Testing_Set/1000x5/Final_Test_00/test_66.csv\n",
      "./Ranked_Data/1000x5/Final_Test_00/test_66.csv\n",
      "./Format_Data/Testing_Set/1000x5/Final_Test_00/test_67.csv\n",
      "./Ranked_Data/1000x5/Final_Test_00/test_67.csv\n",
      "./Format_Data/Testing_Set/1000x5/Final_Test_00/test_68.csv\n",
      "./Ranked_Data/1000x5/Final_Test_00/test_68.csv\n",
      "./Format_Data/Testing_Set/1000x5/Final_Test_00/test_69.csv\n",
      "./Ranked_Data/1000x5/Final_Test_00/test_69.csv\n",
      "./Format_Data/Testing_Set/1000x5/Final_Test_00/test_7.csv\n",
      "./Ranked_Data/1000x5/Final_Test_00/test_7.csv\n",
      "./Format_Data/Testing_Set/1000x5/Final_Test_00/test_70.csv\n",
      "./Ranked_Data/1000x5/Final_Test_00/test_70.csv\n",
      "./Format_Data/Testing_Set/1000x5/Final_Test_00/test_71.csv\n",
      "./Ranked_Data/1000x5/Final_Test_00/test_71.csv\n",
      "./Format_Data/Testing_Set/1000x5/Final_Test_00/test_72.csv\n",
      "./Ranked_Data/1000x5/Final_Test_00/test_72.csv\n",
      "./Format_Data/Testing_Set/1000x5/Final_Test_00/test_73.csv\n",
      "./Ranked_Data/1000x5/Final_Test_00/test_73.csv\n",
      "./Format_Data/Testing_Set/1000x5/Final_Test_00/test_74.csv\n",
      "./Ranked_Data/1000x5/Final_Test_00/test_74.csv\n",
      "./Format_Data/Testing_Set/1000x5/Final_Test_00/test_75.csv\n",
      "./Ranked_Data/1000x5/Final_Test_00/test_75.csv\n",
      "./Format_Data/Testing_Set/1000x5/Final_Test_00/test_76.csv\n",
      "./Ranked_Data/1000x5/Final_Test_00/test_76.csv\n",
      "./Format_Data/Testing_Set/1000x5/Final_Test_00/test_77.csv\n",
      "./Ranked_Data/1000x5/Final_Test_00/test_77.csv\n",
      "./Format_Data/Testing_Set/1000x5/Final_Test_00/test_78.csv\n",
      "./Ranked_Data/1000x5/Final_Test_00/test_78.csv\n",
      "./Format_Data/Testing_Set/1000x5/Final_Test_00/test_79.csv\n",
      "./Ranked_Data/1000x5/Final_Test_00/test_79.csv\n",
      "./Format_Data/Testing_Set/1000x5/Final_Test_00/test_8.csv\n",
      "./Ranked_Data/1000x5/Final_Test_00/test_8.csv\n",
      "./Format_Data/Testing_Set/1000x5/Final_Test_00/test_80.csv\n",
      "./Ranked_Data/1000x5/Final_Test_00/test_80.csv\n",
      "./Format_Data/Testing_Set/1000x5/Final_Test_00/test_81.csv\n",
      "./Ranked_Data/1000x5/Final_Test_00/test_81.csv\n",
      "./Format_Data/Testing_Set/1000x5/Final_Test_00/test_82.csv\n",
      "./Ranked_Data/1000x5/Final_Test_00/test_82.csv\n",
      "./Format_Data/Testing_Set/1000x5/Final_Test_00/test_83.csv\n",
      "./Ranked_Data/1000x5/Final_Test_00/test_83.csv\n",
      "./Format_Data/Testing_Set/1000x5/Final_Test_00/test_84.csv\n",
      "./Ranked_Data/1000x5/Final_Test_00/test_84.csv\n",
      "./Format_Data/Testing_Set/1000x5/Final_Test_00/test_85.csv\n",
      "./Ranked_Data/1000x5/Final_Test_00/test_85.csv\n",
      "./Format_Data/Testing_Set/1000x5/Final_Test_00/test_86.csv\n",
      "./Ranked_Data/1000x5/Final_Test_00/test_86.csv\n",
      "./Format_Data/Testing_Set/1000x5/Final_Test_00/test_87.csv\n",
      "./Ranked_Data/1000x5/Final_Test_00/test_87.csv\n",
      "./Format_Data/Testing_Set/1000x5/Final_Test_00/test_88.csv\n",
      "./Ranked_Data/1000x5/Final_Test_00/test_88.csv\n",
      "./Format_Data/Testing_Set/1000x5/Final_Test_00/test_89.csv\n",
      "./Ranked_Data/1000x5/Final_Test_00/test_89.csv\n",
      "./Format_Data/Testing_Set/1000x5/Final_Test_00/test_9.csv\n",
      "./Ranked_Data/1000x5/Final_Test_00/test_9.csv\n",
      "./Format_Data/Testing_Set/1000x5/Final_Test_00/test_90.csv\n",
      "./Ranked_Data/1000x5/Final_Test_00/test_90.csv\n",
      "./Format_Data/Testing_Set/1000x5/Final_Test_00/test_91.csv\n",
      "./Ranked_Data/1000x5/Final_Test_00/test_91.csv\n",
      "./Format_Data/Testing_Set/1000x5/Final_Test_00/test_92.csv\n",
      "./Ranked_Data/1000x5/Final_Test_00/test_92.csv\n",
      "./Format_Data/Testing_Set/1000x5/Final_Test_00/test_93.csv\n",
      "./Ranked_Data/1000x5/Final_Test_00/test_93.csv\n",
      "./Format_Data/Testing_Set/1000x5/Final_Test_00/test_94.csv\n",
      "./Ranked_Data/1000x5/Final_Test_00/test_94.csv\n",
      "./Format_Data/Testing_Set/1000x5/Final_Test_00/test_95.csv\n",
      "./Ranked_Data/1000x5/Final_Test_00/test_95.csv\n",
      "./Format_Data/Testing_Set/1000x5/Final_Test_00/test_96.csv\n",
      "./Ranked_Data/1000x5/Final_Test_00/test_96.csv\n",
      "./Format_Data/Testing_Set/1000x5/Final_Test_00/test_97.csv\n",
      "./Ranked_Data/1000x5/Final_Test_00/test_97.csv\n",
      "./Format_Data/Testing_Set/1000x5/Final_Test_00/test_98.csv\n",
      "./Ranked_Data/1000x5/Final_Test_00/test_98.csv\n",
      "./Format_Data/Testing_Set/1000x5/Final_Test_00/test_99.csv\n",
      "./Ranked_Data/1000x5/Final_Test_00/test_99.csv\n"
     ]
    }
   ],
   "source": [
    "for fname in file_list :\n",
    "    \n",
    "    file_path_in = os.path.join(PATH_FORMATED, Final_Test_List[0], fname)\n",
    "    file_path_out = os.path.join(PATH_RANKED, Final_Test_List[0], fname)\n",
    "    f_in = open(file_path_in, 'r')\n",
    "    f_out = open(file_path_out, 'w')\n",
    "    print file_path_in\n",
    "    print file_path_out\n",
    "    \n",
    "    !java -jar ./RankLib-v2.1/bin/RankLib.jar -load MART -rank $file_path_in 2>&1 | tail -1 >> $file_path_out\n",
    "    \n",
    "    f_in.close()\n",
    "    f_out.close()\n",
    "    # para01 = '-jar ./RankLib-v2.1/bin/RankLib.jar'\n",
    "    # para02 = '-load MART'\n",
    "    # para03 = '-rank file_path_in'\n",
    "    # para04 = '-score file_path_out'\n",
    "    # cmd = 'java' + ' '+ para01 + ' ' + para02 + ' ' + para03 + ' ' + para04\n",
    "    # cmd = ' java -jar ./RankLib-v2.1/bin/RankLib.jar -load MART -rank file_path_in -score file_path_out '\n",
    "    # print cmd\n",
    "    # os.system(cmd)\n",
    "    # print cmd\n",
    "    # subprocess.call(['java', para01, para02, para03, para04], shell=True)"
   ]
  },
  {
   "cell_type": "code",
   "execution_count": 18,
   "metadata": {
    "collapsed": false
   },
   "outputs": [],
   "source": [
    "# file_list"
   ]
  },
  {
   "cell_type": "code",
   "execution_count": 22,
   "metadata": {
    "collapsed": false
   },
   "outputs": [],
   "source": [
    "def answer0_rank(test_file) :\n",
    "    with open(test_file, 'r') as test :\n",
    "        line = test.readline()\n",
    "        # print line \n",
    "        info = line.split(' ')\n",
    "        return info[0]        "
   ]
  },
  {
   "cell_type": "code",
   "execution_count": 28,
   "metadata": {
    "collapsed": false
   },
   "outputs": [],
   "source": [
    "p_at_1 = 0\n",
    "p_at_2 = 0\n",
    "p_at_3 = 0\n",
    "p_at_4 = 0\n",
    "p_at_5 = 0\n",
    "for fname in file_list:\n",
    "    # print fname\n",
    "    rank = answer0_rank('./Ranked_Data/1000x5/Final_Test_00/' + fname )\n",
    "    if rank == '1' :\n",
    "        p_at_1 += 1\n",
    "    if rank == '2' :\n",
    "        p_at_2 += 1\n",
    "    if rank == '3' :\n",
    "        p_at_3 += 1\n",
    "    if rank == '4' :\n",
    "        p_at_4 += 1\n",
    "    if rank == '5' :\n",
    "        p_at_5 += 1"
   ]
  },
  {
   "cell_type": "code",
   "execution_count": 29,
   "metadata": {
    "collapsed": false
   },
   "outputs": [
    {
     "name": "stdout",
     "output_type": "stream",
     "text": [
      "21 10 18 14 9\n"
     ]
    }
   ],
   "source": [
    "print p_at_1, p_at_2, p_at_3, p_at_4, p_at_5"
   ]
  }
 ],
 "metadata": {
  "kernelspec": {
   "display_name": "Python 2",
   "language": "python",
   "name": "python2"
  },
  "language_info": {
   "codemirror_mode": {
    "name": "ipython",
    "version": 2
   },
   "file_extension": ".py",
   "mimetype": "text/x-python",
   "name": "python",
   "nbconvert_exporter": "python",
   "pygments_lexer": "ipython2",
   "version": "2.7.10"
  }
 },
 "nbformat": 4,
 "nbformat_minor": 0
}
