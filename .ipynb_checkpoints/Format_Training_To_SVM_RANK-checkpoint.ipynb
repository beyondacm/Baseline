{
 "cells": [
  {
   "cell_type": "code",
   "execution_count": 1,
   "metadata": {
    "collapsed": true
   },
   "outputs": [],
   "source": [
    "from itertools import  izip"
   ]
  },
  {
   "cell_type": "code",
   "execution_count": 2,
   "metadata": {
    "collapsed": true
   },
   "outputs": [],
   "source": [
    "def format(fout, target, qid, feature_list) :\n",
    "    fout.write( str(target) + ' ')\n",
    "    fout.write('qid:' + str(qid) + ' ')\n",
    "    for i,value in enumerate(feature_list) :\n",
    "        fout.write(str(i+1) + ':' + str(value) + ' ')\n",
    "    fout.write('\\n')"
   ]
  },
  {
   "cell_type": "code",
   "execution_count": 3,
   "metadata": {
    "collapsed": true
   },
   "outputs": [],
   "source": [
    "PATH_FORMAT = './Format_Data/Training_Set/'\n",
    "fout_00 = open(PATH_FORMAT + 'Format_00.csv', 'w')\n",
    "fout_01 = open(PATH_FORMAT + 'Format_01.csv', 'w')\n",
    "fout_02 = open(PATH_FORMAT + 'Format_02.csv', 'w')\n",
    "fout_03 = open(PATH_FORMAT + 'Format_03.csv', 'w')\n",
    "fout_04 = open(PATH_FORMAT + 'Format_04.csv', 'w')\n",
    "fout_05 = open(PATH_FORMAT + 'Format_05.csv', 'w')\n",
    "fout_06 = open(PATH_FORMAT + 'Format_06.csv', 'w')\n",
    "fout_07 = open(PATH_FORMAT + 'Format_07.csv', 'w')\n",
    "fout_08 = open(PATH_FORMAT + 'Format_08.csv', 'w')\n",
    "fout_09 = open(PATH_FORMAT + 'Format_09.csv', 'w')\n",
    "fout_10 = open(PATH_FORMAT + 'Format_10.csv', 'w')\n",
    "fout_11 = open(PATH_FORMAT + 'Format_11.csv', 'w')\n",
    "fout_12 = open(PATH_FORMAT + 'Format_12.csv', 'w')"
   ]
  },
  {
   "cell_type": "code",
   "execution_count": 4,
   "metadata": {
    "collapsed": false
   },
   "outputs": [
    {
     "name": "stdout",
     "output_type": "stream",
     "text": [
      "done\n"
     ]
    }
   ],
   "source": [
    "with open('./Training_Data/match_best.csv') as best, \\\n",
    "    open('./Training_Data/match_second.csv') as second, \\\n",
    "    open('./Training_Data/match_third.csv') as third :\n",
    "        \n",
    "        best.readline()\n",
    "        second.readline()\n",
    "        third.readline()\n",
    "        qid = 1\n",
    "        \n",
    "        for line1, line2, line3 in izip(best, second, third) :\n",
    "            \n",
    "            best_answer = line1.strip().split(',')\n",
    "            second_answer = line2.strip().split(',')\n",
    "            third_answer = line3.strip().split(',')\n",
    "            \n",
    "            # write best_answer\n",
    "            format(fout_00, 3, qid, best_answer)\n",
    "            format(fout_00, 2, qid, second_answer)\n",
    "            format(fout_00, 1, qid, third_answer)\n",
    "        \n",
    "            qid = qid + 1\n",
    "        \n",
    "        print 'done'\n",
    "    \n",
    "        fout_00.close()"
   ]
  },
  {
   "cell_type": "code",
   "execution_count": 5,
   "metadata": {
    "collapsed": false
   },
   "outputs": [
    {
     "data": {
      "text/plain": [
       "1960"
      ]
     },
     "execution_count": 5,
     "metadata": {},
     "output_type": "execute_result"
    }
   ],
   "source": [
    "qid"
   ]
  },
  {
   "cell_type": "code",
   "execution_count": 6,
   "metadata": {
    "collapsed": true
   },
   "outputs": [],
   "source": [
    "def generate_format(fin_01, fin_02, fin_03, fout, qid) :\n",
    "    \n",
    "    with open(fin_01, 'r') as f_01, \\\n",
    "        open(fin_02, 'r') as f_02, \\\n",
    "        open(fin_03, 'r') as f_03 :\n",
    "            \n",
    "            f_01.readline()\n",
    "            f_02.readline()\n",
    "            f_03.readline()\n",
    "            # qid = 1\n",
    "            \n",
    "            for line1, line2, line3 in izip(f_01, f_02, f_03) :\n",
    "                \n",
    "                f_01 = line1.strip().split(',')\n",
    "                f_02 = line2.strip().split(',')\n",
    "                f_03 = line3.strip().split(',')\n",
    "                \n",
    "                # write to file\n",
    "                format(fout, 2, qid, f_01)\n",
    "                format(fout, 1, qid, f_02)\n",
    "                format(fout, 1, qid, f_03)\n",
    "                \n",
    "                qid = qid + 1\n",
    "            \n",
    "            print 'done'\n",
    "            fout.close()\n",
    "            \n",
    "    return qid"
   ]
  },
  {
   "cell_type": "code",
   "execution_count": 7,
   "metadata": {
    "collapsed": true
   },
   "outputs": [],
   "source": [
    "match_best = './Training_Data/match_best.csv'\n",
    "match_second = './Training_Data/match_second.csv'\n",
    "match_third = './Training_Data/match_second.csv'\n",
    "\n",
    "similar01_best = './Training_Data/similar01_best.csv'\n",
    "similar01_second = './Training_Data/similar01_second.csv'\n",
    "similar01_third = './Training_Data/similar01_third.csv'\n",
    "\n",
    "similar02_best = './Training_Data/similar02_best.csv'\n",
    "similar02_second = './Training_Data/similar02_second.csv'\n",
    "similar02_third = './Training_Data/similar02_third.csv'\n",
    "\n",
    "similar03_best = './Training_Data/similar03_best.csv'\n",
    "similar03_second = './Training_Data/similar03_second.csv'\n",
    "similar03_third = './Training_Data/similar03_third.csv'\n",
    "\n",
    "non_match_best = './Training_Data/non_match_best.csv'\n",
    "non_match_second = './Training_Data/non_match_second.csv'\n",
    "non_match_third = './Training_Data/non_match_third.csv'"
   ]
  },
  {
   "cell_type": "code",
   "execution_count": 8,
   "metadata": {
    "collapsed": false
   },
   "outputs": [
    {
     "name": "stdout",
     "output_type": "stream",
     "text": [
      "done\n"
     ]
    }
   ],
   "source": [
    "qid = generate_format(match_best, similar01_best, similar01_third, fout_01, qid)"
   ]
  },
  {
   "cell_type": "code",
   "execution_count": 9,
   "metadata": {
    "collapsed": false
   },
   "outputs": [
    {
     "data": {
      "text/plain": [
       "3919"
      ]
     },
     "execution_count": 9,
     "metadata": {},
     "output_type": "execute_result"
    }
   ],
   "source": [
    "qid"
   ]
  },
  {
   "cell_type": "code",
   "execution_count": 10,
   "metadata": {
    "collapsed": false
   },
   "outputs": [
    {
     "name": "stdout",
     "output_type": "stream",
     "text": [
      "done\n"
     ]
    }
   ],
   "source": [
    "qid = generate_format(match_best, similar02_second, similar02_third, fout_02, qid)"
   ]
  },
  {
   "cell_type": "code",
   "execution_count": 11,
   "metadata": {
    "collapsed": false
   },
   "outputs": [
    {
     "name": "stdout",
     "output_type": "stream",
     "text": [
      "done\n"
     ]
    }
   ],
   "source": [
    "qid = generate_format(match_best, similar03_best, similar03_second, fout_03, qid)"
   ]
  },
  {
   "cell_type": "code",
   "execution_count": 12,
   "metadata": {
    "collapsed": false
   },
   "outputs": [
    {
     "name": "stdout",
     "output_type": "stream",
     "text": [
      "done\n"
     ]
    }
   ],
   "source": [
    "qid = generate_format(match_second, similar02_best, similar02_second, fout_04, qid)"
   ]
  },
  {
   "cell_type": "code",
   "execution_count": 13,
   "metadata": {
    "collapsed": false
   },
   "outputs": [
    {
     "name": "stdout",
     "output_type": "stream",
     "text": [
      "done\n"
     ]
    }
   ],
   "source": [
    "qid = generate_format(match_second, similar02_best, similar02_third, fout_05, qid)"
   ]
  },
  {
   "cell_type": "code",
   "execution_count": 14,
   "metadata": {
    "collapsed": false
   },
   "outputs": [
    {
     "name": "stdout",
     "output_type": "stream",
     "text": [
      "done\n"
     ]
    }
   ],
   "source": [
    "qid = generate_format(match_second, similar03_second, similar03_third, fout_06, qid)"
   ]
  },
  {
   "cell_type": "code",
   "execution_count": 15,
   "metadata": {
    "collapsed": false
   },
   "outputs": [
    {
     "name": "stdout",
     "output_type": "stream",
     "text": [
      "done\n"
     ]
    }
   ],
   "source": [
    "qid = generate_format(match_third, similar01_second, similar01_third, fout_07, qid)"
   ]
  },
  {
   "cell_type": "code",
   "execution_count": 16,
   "metadata": {
    "collapsed": false
   },
   "outputs": [
    {
     "name": "stdout",
     "output_type": "stream",
     "text": [
      "done\n"
     ]
    }
   ],
   "source": [
    "qid = generate_format(match_third, similar02_best, similar02_second, fout_08, qid)"
   ]
  },
  {
   "cell_type": "code",
   "execution_count": 17,
   "metadata": {
    "collapsed": false,
    "scrolled": true
   },
   "outputs": [
    {
     "name": "stdout",
     "output_type": "stream",
     "text": [
      "done\n"
     ]
    }
   ],
   "source": [
    "qid = generate_format(match_third, similar03_best, similar03_third, fout_09, qid)"
   ]
  },
  {
   "cell_type": "code",
   "execution_count": 18,
   "metadata": {
    "collapsed": false
   },
   "outputs": [
    {
     "name": "stdout",
     "output_type": "stream",
     "text": [
      "done\n"
     ]
    }
   ],
   "source": [
    "qid = generate_format(match_best, non_match_best, non_match_second, fout_10, qid)"
   ]
  },
  {
   "cell_type": "code",
   "execution_count": 19,
   "metadata": {
    "collapsed": false
   },
   "outputs": [
    {
     "name": "stdout",
     "output_type": "stream",
     "text": [
      "done\n"
     ]
    }
   ],
   "source": [
    "qid = generate_format(match_second, non_match_best, non_match_third, fout_11, qid)"
   ]
  },
  {
   "cell_type": "code",
   "execution_count": 20,
   "metadata": {
    "collapsed": false
   },
   "outputs": [
    {
     "name": "stdout",
     "output_type": "stream",
     "text": [
      "done\n"
     ]
    }
   ],
   "source": [
    "qid = generate_format(match_third, non_match_second, non_match_third, fout_12, qid)"
   ]
  },
  {
   "cell_type": "code",
   "execution_count": 21,
   "metadata": {
    "collapsed": true
   },
   "outputs": [],
   "source": [
    "import os"
   ]
  },
  {
   "cell_type": "code",
   "execution_count": 22,
   "metadata": {
    "collapsed": false
   },
   "outputs": [],
   "source": [
    "file_list = [\n",
    "    './Format_Data/Training_Set/Format_00.csv',\n",
    "    './Format_Data/Training_Set/Format_01.csv',\n",
    "    './Format_Data/Training_Set/Format_02.csv',\n",
    "    './Format_Data/Training_Set/Format_03.csv',\n",
    "    './Format_Data/Training_Set/Format_04.csv',\n",
    "    './Format_Data/Training_Set/Format_05.csv',\n",
    "    './Format_Data/Training_Set/Format_06.csv',\n",
    "    './Format_Data/Training_Set/Format_07.csv',\n",
    "    './Format_Data/Training_Set/Format_08.csv',\n",
    "    './Format_Data/Training_Set/Format_09.csv',\n",
    "    './Format_Data/Training_Set/Format_10.csv',\n",
    "    './Format_Data/Training_Set/Format_11.csv',\n",
    "    './Format_Data/Training_Set/Format_12.csv'\n",
    "]\n",
    "\n",
    "\n",
    "with open('./Total_SVM_RANK.csv','w') as outfile:\n",
    "    for fname in file_list:\n",
    "        \n",
    "        with open(fname) as infile :\n",
    "            for line in infile:\n",
    "                outfile.write(line)\n",
    "        "
   ]
  },
  {
   "cell_type": "code",
   "execution_count": null,
   "metadata": {
    "collapsed": true
   },
   "outputs": [],
   "source": []
  }
 ],
 "metadata": {
  "kernelspec": {
   "display_name": "Python 2",
   "language": "python",
   "name": "python2"
  },
  "language_info": {
   "codemirror_mode": {
    "name": "ipython",
    "version": 2
   },
   "file_extension": ".py",
   "mimetype": "text/x-python",
   "name": "python",
   "nbconvert_exporter": "python",
   "pygments_lexer": "ipython2",
   "version": "2.7.11"
  }
 },
 "nbformat": 4,
 "nbformat_minor": 0
}
