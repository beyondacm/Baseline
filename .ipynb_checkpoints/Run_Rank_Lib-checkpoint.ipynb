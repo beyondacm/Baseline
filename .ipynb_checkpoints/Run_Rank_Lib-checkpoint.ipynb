{
 "cells": [
  {
   "cell_type": "code",
   "execution_count": 25,
   "metadata": {
    "collapsed": true
   },
   "outputs": [],
   "source": [
    "import pandas as pd\n",
    "import os \n",
    "import subprocess"
   ]
  },
  {
   "cell_type": "code",
   "execution_count": 70,
   "metadata": {
    "collapsed": false
   },
   "outputs": [],
   "source": [
    "file_path_in = \"./Format_Data/Testing_Set/1000x5/Final_Test_00/test_1.csv\"\n",
    "file_path_out = './test1.txt'"
   ]
  },
  {
   "cell_type": "code",
   "execution_count": 99,
   "metadata": {
    "collapsed": false
   },
   "outputs": [],
   "source": [
    "!java -jar ./RankLib-v2.1/bin/RankLib.jar -load MART -rank $file_path_in 2>&1 | tail -1 >> $file_path_out"
   ]
  },
  {
   "cell_type": "code",
   "execution_count": 21,
   "metadata": {
    "collapsed": false
   },
   "outputs": [],
   "source": [
    "LEVEL ='1000x5/'\n",
    "PATH_FORMATED = './Format_Data/Testing_Set/' + LEVEL\n",
    "PATH_RANKED = './Ranked_Data/' + LEVEL"
   ]
  },
  {
   "cell_type": "code",
   "execution_count": 11,
   "metadata": {
    "collapsed": false
   },
   "outputs": [],
   "source": [
    "Final_Test_List = os.listdir(PATH_FORMATED)"
   ]
  },
  {
   "cell_type": "code",
   "execution_count": 20,
   "metadata": {
    "collapsed": true
   },
   "outputs": [],
   "source": [
    "file_list = ['test_0.csv', \n",
    "             'test_1.csv' ]"
   ]
  },
  {
   "cell_type": "code",
   "execution_count": 41,
   "metadata": {
    "collapsed": false
   },
   "outputs": [
    {
     "name": "stdout",
     "output_type": "stream",
     "text": [
      "./Format_Data/Testing_Set/1000x5/Final_Test_01/test_0.csv\n",
      "./Ranked_Data/1000x5/Final_Test_01/test_0.csv\n",
      "./Format_Data/Testing_Set/1000x5/Final_Test_01/test_1.csv\n",
      "./Ranked_Data/1000x5/Final_Test_01/test_1.csv\n"
     ]
    }
   ],
   "source": [
    "for fname in file_list :\n",
    "    \n",
    "    file_path_in = os.path.join(PATH_FORMATED, Final_Test_List[0], fname)\n",
    "    file_path_out = os.path.join(PATH_RANKED, Final_Test_List[0], fname)\n",
    "    print file_path_in\n",
    "    print file_path_out\n",
    "    \n",
    "    para01 = '-jar ./RankLib-v2.1/bin/RankLib.jar'\n",
    "    para02 = '-load MART'\n",
    "    para03 = '-rank file_path_in'\n",
    "    para04 = '-score file_path_out'\n",
    "    # cmd = 'java' + ' '+ para01 + ' ' + para02 + ' ' + para03 + ' ' + para04\n",
    "    cmd = ' java -jar ./RankLib-v2.1/bin/RankLib.jar -load MART -rank file_path_in -score file_path_out '\n",
    "    # print cmd\n",
    "    os.system(cmd)\n",
    "    # print cmd\n",
    "    # subprocess.call(['java', para01, para02, para03, para04], shell=True)"
   ]
  },
  {
   "cell_type": "code",
   "execution_count": 16,
   "metadata": {
    "collapsed": false
   },
   "outputs": [],
   "source": [
    "PATH_IN = os.path.join(PATH_FORMATED, Final_Test_List[0]) + '/'\n",
    "# print PATH_IN\n",
    "file_list = os.listdir(PATH_IN)\n",
    "for fname in file_list :\n",
    "    \n",
    "    file_path_in = os.path.join(PATH_TEST, Final_Test, fname )\n",
    "    file_path_out = os.path.join(PATH_FORMAT, Final_Test, fname )"
   ]
  },
  {
   "cell_type": "code",
   "execution_count": 18,
   "metadata": {
    "collapsed": false
   },
   "outputs": [],
   "source": [
    "# file_list"
   ]
  },
  {
   "cell_type": "code",
   "execution_count": null,
   "metadata": {
    "collapsed": true
   },
   "outputs": [],
   "source": []
  }
 ],
 "metadata": {
  "kernelspec": {
   "display_name": "Python 2",
   "language": "python",
   "name": "python2"
  },
  "language_info": {
   "codemirror_mode": {
    "name": "ipython",
    "version": 2
   },
   "file_extension": ".py",
   "mimetype": "text/x-python",
   "name": "python",
   "nbconvert_exporter": "python",
   "pygments_lexer": "ipython2",
   "version": "2.7.11"
  }
 },
 "nbformat": 4,
 "nbformat_minor": 0
}
